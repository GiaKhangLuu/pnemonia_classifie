{
 "cells": [
  {
   "cell_type": "markdown",
   "metadata": {},
   "source": [
    "## **Note**\n",
    "\n",
    "In this notebook, i just prepare the data then fine tuning VGG16 to diagnosis pneumonia.\n",
    "If you wanna see insight the dataset, please visit this notebook: \n",
    "\n",
    "-> https://www.kaggle.com/luukhang/build-alexnet-to-classifies-pneumonia\n",
    "\n",
    "Comparing the performance of pretrained of VGG16 and ResNet18, plese visit this notebook:\n",
    "\n",
    "-> https://www.kaggle.com/luukhang/transfer-learning-resnet18-to-classifies-pneumonia"
   ]
  },
  {
   "cell_type": "markdown",
   "metadata": {},
   "source": [
    "# 1. Import libs"
   ]
  },
  {
   "cell_type": "code",
   "execution_count": 29,
   "metadata": {
    "execution": {
     "iopub.execute_input": "2021-08-04T10:10:08.686411Z",
     "iopub.status.busy": "2021-08-04T10:10:08.686048Z",
     "iopub.status.idle": "2021-08-04T10:10:08.696266Z",
     "shell.execute_reply": "2021-08-04T10:10:08.694578Z",
     "shell.execute_reply.started": "2021-08-04T10:10:08.686380Z"
    }
   },
   "outputs": [
    {
     "name": "stdout",
     "output_type": "stream",
     "text": [
      "Import successfully!\n"
     ]
    }
   ],
   "source": [
    "# Common lib\n",
    "import pandas as pd\n",
    "import numpy as np\n",
    "import matplotlib.pyplot as plt\n",
    "import seaborn as sns\n",
    "import os\n",
    "\n",
    "# Utils\n",
    "from tqdm import tqdm\n",
    "import datetime\n",
    "\n",
    "# Sklearn\n",
    "from sklearn.model_selection import train_test_split\n",
    "from sklearn.metrics import auc, confusion_matrix, precision_recall_curve\n",
    "\n",
    "# Tensorflow\n",
    "import tensorflow as tf\n",
    "from tensorflow.keras.models import Model, Sequential\n",
    "from tensorflow.keras.applications.vgg16 import VGG16\n",
    "from tensorflow.keras import Input\n",
    "from tensorflow.keras.layers import Conv2D, BatchNormalization, Activation, Add, MaxPooling2D, Flatten, AveragePooling2D, Dense, Dropout\n",
    "from tensorflow.keras.callbacks import ModelCheckpoint, EarlyStopping, ReduceLROnPlateau\n",
    "from tensorflow.keras.metrics import AUC, TruePositives, TrueNegatives, FalsePositives, FalseNegatives\n",
    "from tensorflow.keras.preprocessing.image import ImageDataGenerator, load_img, img_to_array, array_to_img\n",
    "from tensorflow.keras.layers.experimental.preprocessing import Resizing, Rescaling\n",
    "from tensorflow.keras.optimizers import Adam\n",
    "from tensorflow.keras.regularizers import l2\n",
    "\n",
    "print('Import successfully!')"
   ]
  },
  {
   "cell_type": "markdown",
   "metadata": {},
   "source": [
    "# 2. Prepare data"
   ]
  },
  {
   "cell_type": "code",
   "execution_count": 2,
   "metadata": {
    "execution": {
     "iopub.execute_input": "2021-08-04T07:31:52.294002Z",
     "iopub.status.busy": "2021-08-04T07:31:52.293636Z",
     "iopub.status.idle": "2021-08-04T07:31:52.329191Z",
     "shell.execute_reply": "2021-08-04T07:31:52.328268Z",
     "shell.execute_reply.started": "2021-08-04T07:31:52.293966Z"
    }
   },
   "outputs": [],
   "source": [
    "# Init variables\n",
    "input_folder = '../input/coronahack-chest-xraydataset'\n",
    "test_img_folder = os.path.join(input_folder, 'Coronahack-Chest-XRay-Dataset', 'Coronahack-Chest-XRay-Dataset', 'test')\n",
    "train_img_folder = os.path.join(input_folder, 'Coronahack-Chest-XRay-Dataset', 'Coronahack-Chest-XRay-Dataset', 'train')\n",
    "metadata_df = pd.read_csv(os.path.join(input_folder, 'Chest_xray_Corona_Metadata.csv'), index_col=0)"
   ]
  },
  {
   "cell_type": "code",
   "execution_count": 3,
   "metadata": {
    "execution": {
     "iopub.execute_input": "2021-08-04T07:31:52.331649Z",
     "iopub.status.busy": "2021-08-04T07:31:52.331183Z",
     "iopub.status.idle": "2021-08-04T07:31:52.361439Z",
     "shell.execute_reply": "2021-08-04T07:31:52.360486Z",
     "shell.execute_reply.started": "2021-08-04T07:31:52.331609Z"
    }
   },
   "outputs": [
    {
     "name": "stdout",
     "output_type": "stream",
     "text": [
      "Shape of train data: (5286, 5)\n",
      "Shape of test data: (624, 5)\n"
     ]
    },
    {
     "data": {
      "text/html": [
       "<div>\n",
       "<style scoped>\n",
       "    .dataframe tbody tr th:only-of-type {\n",
       "        vertical-align: middle;\n",
       "    }\n",
       "\n",
       "    .dataframe tbody tr th {\n",
       "        vertical-align: top;\n",
       "    }\n",
       "\n",
       "    .dataframe thead th {\n",
       "        text-align: right;\n",
       "    }\n",
       "</style>\n",
       "<table border=\"1\" class=\"dataframe\">\n",
       "  <thead>\n",
       "    <tr style=\"text-align: right;\">\n",
       "      <th></th>\n",
       "      <th>X_ray_image_name</th>\n",
       "      <th>Label</th>\n",
       "      <th>Dataset_type</th>\n",
       "      <th>Label_2_Virus_category</th>\n",
       "      <th>Label_1_Virus_category</th>\n",
       "    </tr>\n",
       "  </thead>\n",
       "  <tbody>\n",
       "    <tr>\n",
       "      <th>5061</th>\n",
       "      <td>person976_bacteria_2901.jpeg</td>\n",
       "      <td>Pnemonia</td>\n",
       "      <td>TRAIN</td>\n",
       "      <td>NaN</td>\n",
       "      <td>bacteria</td>\n",
       "    </tr>\n",
       "    <tr>\n",
       "      <th>1900</th>\n",
       "      <td>person1343_bacteria_3417.jpeg</td>\n",
       "      <td>Pnemonia</td>\n",
       "      <td>TRAIN</td>\n",
       "      <td>NaN</td>\n",
       "      <td>bacteria</td>\n",
       "    </tr>\n",
       "    <tr>\n",
       "      <th>854</th>\n",
       "      <td>NORMAL2-IM-0727-0001.jpeg</td>\n",
       "      <td>Normal</td>\n",
       "      <td>TRAIN</td>\n",
       "      <td>NaN</td>\n",
       "      <td>NaN</td>\n",
       "    </tr>\n",
       "    <tr>\n",
       "      <th>3842</th>\n",
       "      <td>person407_bacteria_1822.jpeg</td>\n",
       "      <td>Pnemonia</td>\n",
       "      <td>TRAIN</td>\n",
       "      <td>NaN</td>\n",
       "      <td>bacteria</td>\n",
       "    </tr>\n",
       "    <tr>\n",
       "      <th>1681</th>\n",
       "      <td>person124_virus_233.jpeg</td>\n",
       "      <td>Pnemonia</td>\n",
       "      <td>TRAIN</td>\n",
       "      <td>NaN</td>\n",
       "      <td>Virus</td>\n",
       "    </tr>\n",
       "    <tr>\n",
       "      <th>3345</th>\n",
       "      <td>person278_virus_575.jpeg</td>\n",
       "      <td>Pnemonia</td>\n",
       "      <td>TRAIN</td>\n",
       "      <td>NaN</td>\n",
       "      <td>Virus</td>\n",
       "    </tr>\n",
       "    <tr>\n",
       "      <th>2777</th>\n",
       "      <td>person1657_bacteria_4400.jpeg</td>\n",
       "      <td>Pnemonia</td>\n",
       "      <td>TRAIN</td>\n",
       "      <td>NaN</td>\n",
       "      <td>bacteria</td>\n",
       "    </tr>\n",
       "    <tr>\n",
       "      <th>1355</th>\n",
       "      <td>person1011_bacteria_2942.jpeg</td>\n",
       "      <td>Pnemonia</td>\n",
       "      <td>TRAIN</td>\n",
       "      <td>NaN</td>\n",
       "      <td>bacteria</td>\n",
       "    </tr>\n",
       "    <tr>\n",
       "      <th>4460</th>\n",
       "      <td>person724_virus_1344.jpeg</td>\n",
       "      <td>Pnemonia</td>\n",
       "      <td>TRAIN</td>\n",
       "      <td>NaN</td>\n",
       "      <td>Virus</td>\n",
       "    </tr>\n",
       "    <tr>\n",
       "      <th>4284</th>\n",
       "      <td>person568_bacteria_2359.jpeg</td>\n",
       "      <td>Pnemonia</td>\n",
       "      <td>TRAIN</td>\n",
       "      <td>NaN</td>\n",
       "      <td>bacteria</td>\n",
       "    </tr>\n",
       "  </tbody>\n",
       "</table>\n",
       "</div>"
      ],
      "text/plain": [
       "                   X_ray_image_name     Label Dataset_type  \\\n",
       "5061   person976_bacteria_2901.jpeg  Pnemonia        TRAIN   \n",
       "1900  person1343_bacteria_3417.jpeg  Pnemonia        TRAIN   \n",
       "854       NORMAL2-IM-0727-0001.jpeg    Normal        TRAIN   \n",
       "3842   person407_bacteria_1822.jpeg  Pnemonia        TRAIN   \n",
       "1681       person124_virus_233.jpeg  Pnemonia        TRAIN   \n",
       "3345       person278_virus_575.jpeg  Pnemonia        TRAIN   \n",
       "2777  person1657_bacteria_4400.jpeg  Pnemonia        TRAIN   \n",
       "1355  person1011_bacteria_2942.jpeg  Pnemonia        TRAIN   \n",
       "4460      person724_virus_1344.jpeg  Pnemonia        TRAIN   \n",
       "4284   person568_bacteria_2359.jpeg  Pnemonia        TRAIN   \n",
       "\n",
       "     Label_2_Virus_category Label_1_Virus_category  \n",
       "5061                    NaN               bacteria  \n",
       "1900                    NaN               bacteria  \n",
       "854                     NaN                    NaN  \n",
       "3842                    NaN               bacteria  \n",
       "1681                    NaN                  Virus  \n",
       "3345                    NaN                  Virus  \n",
       "2777                    NaN               bacteria  \n",
       "1355                    NaN               bacteria  \n",
       "4460                    NaN                  Virus  \n",
       "4284                    NaN               bacteria  "
      ]
     },
     "execution_count": 3,
     "metadata": {},
     "output_type": "execute_result"
    }
   ],
   "source": [
    "# Split to train & test set\n",
    "train_df = metadata_df[metadata_df.Dataset_type == 'TRAIN'].reset_index(drop=True)\n",
    "test_df = metadata_df[metadata_df.Dataset_type == 'TEST'].reset_index(drop=True)\n",
    "\n",
    "# Check train_df size + test_df size == metadata_df size\n",
    "assert train_df.size + test_df.size == metadata_df.size\n",
    "\n",
    "print(f'Shape of train data: { train_df.shape }')\n",
    "print(f'Shape of test data: { test_df.shape }')\n",
    "\n",
    "train_df.sample(10)"
   ]
  },
  {
   "cell_type": "code",
   "execution_count": 4,
   "metadata": {
    "execution": {
     "iopub.execute_input": "2021-08-04T07:31:52.363573Z",
     "iopub.status.busy": "2021-08-04T07:31:52.363199Z",
     "iopub.status.idle": "2021-08-04T07:31:52.372513Z",
     "shell.execute_reply": "2021-08-04T07:31:52.371518Z",
     "shell.execute_reply.started": "2021-08-04T07:31:52.363537Z"
    }
   },
   "outputs": [],
   "source": [
    "# fill na\n",
    "train_df.fillna('unknow', inplace=True)\n",
    "test_df.fillna('unknow', inplace=True)"
   ]
  },
  {
   "cell_type": "code",
   "execution_count": 5,
   "metadata": {
    "execution": {
     "iopub.execute_input": "2021-08-04T07:31:52.374416Z",
     "iopub.status.busy": "2021-08-04T07:31:52.373996Z",
     "iopub.status.idle": "2021-08-04T07:31:52.382462Z",
     "shell.execute_reply": "2021-08-04T07:31:52.381583Z",
     "shell.execute_reply.started": "2021-08-04T07:31:52.374370Z"
    }
   },
   "outputs": [],
   "source": [
    "train_datagen = ImageDataGenerator(rotation_range=10,\n",
    "                              brightness_range=(0.8, 1.2),\n",
    "                              horizontal_flip=True,\n",
    "                              zoom_range=[0.75, 1])\n",
    "test_datagen = ImageDataGenerator()"
   ]
  },
  {
   "cell_type": "code",
   "execution_count": 6,
   "metadata": {
    "execution": {
     "iopub.execute_input": "2021-08-04T07:31:52.384301Z",
     "iopub.status.busy": "2021-08-04T07:31:52.383858Z",
     "iopub.status.idle": "2021-08-04T07:31:52.395359Z",
     "shell.execute_reply": "2021-08-04T07:31:52.394443Z",
     "shell.execute_reply.started": "2021-08-04T07:31:52.384264Z"
    }
   },
   "outputs": [],
   "source": [
    "train_df, valid_df = train_test_split(train_df, test_size=0.2, shuffle=True, random_state=42)"
   ]
  },
  {
   "cell_type": "code",
   "execution_count": 7,
   "metadata": {
    "execution": {
     "iopub.execute_input": "2021-08-04T07:31:52.396983Z",
     "iopub.status.busy": "2021-08-04T07:31:52.396633Z",
     "iopub.status.idle": "2021-08-04T07:31:57.911414Z",
     "shell.execute_reply": "2021-08-04T07:31:57.910514Z",
     "shell.execute_reply.started": "2021-08-04T07:31:52.396948Z"
    }
   },
   "outputs": [
    {
     "name": "stdout",
     "output_type": "stream",
     "text": [
      "Found 4228 validated image filenames belonging to 2 classes.\n",
      "Found 1058 validated image filenames belonging to 2 classes.\n",
      "Found 624 validated image filenames belonging to 2 classes.\n"
     ]
    }
   ],
   "source": [
    "train_batches = train_datagen.flow_from_dataframe(train_df,\n",
    "                                             directory=train_img_folder,\n",
    "                                             x_col='X_ray_image_name',\n",
    "                                             y_col='Label',\n",
    "                                             class_mode='binary',\n",
    "                                             batch_size=128)\n",
    "\n",
    "valid_batches = test_datagen.flow_from_dataframe(valid_df,\n",
    "                                             directory=train_img_folder,\n",
    "                                             x_col='X_ray_image_name',\n",
    "                                             y_col='Label',\n",
    "                                             class_mode='binary',\n",
    "                                             batch_size=128)\n",
    "\n",
    "test_batches = test_datagen.flow_from_dataframe(test_df,\n",
    "                                            directory=test_img_folder,\n",
    "                                            x_col='X_ray_image_name',\n",
    "                                            y_col='Label',\n",
    "                                            class_mode='binary',\n",
    "                                            batch_size=8,\n",
    "                                            shuffle=False)"
   ]
  },
  {
   "cell_type": "code",
   "execution_count": 8,
   "metadata": {
    "execution": {
     "iopub.execute_input": "2021-08-04T07:31:57.913161Z",
     "iopub.status.busy": "2021-08-04T07:31:57.912646Z",
     "iopub.status.idle": "2021-08-04T07:31:57.918527Z",
     "shell.execute_reply": "2021-08-04T07:31:57.917451Z",
     "shell.execute_reply.started": "2021-08-04T07:31:57.913120Z"
    }
   },
   "outputs": [
    {
     "name": "stdout",
     "output_type": "stream",
     "text": [
      "Label encode: {'Normal': 0, 'Pnemonia': 1}\n"
     ]
    }
   ],
   "source": [
    "print(f'Label encode: { train_batches.class_indices }')"
   ]
  },
  {
   "cell_type": "code",
   "execution_count": 9,
   "metadata": {
    "execution": {
     "iopub.execute_input": "2021-08-04T07:31:57.922598Z",
     "iopub.status.busy": "2021-08-04T07:31:57.922117Z",
     "iopub.status.idle": "2021-08-04T07:31:57.936870Z",
     "shell.execute_reply": "2021-08-04T07:31:57.936031Z",
     "shell.execute_reply.started": "2021-08-04T07:31:57.922560Z"
    }
   },
   "outputs": [
    {
     "name": "stdout",
     "output_type": "stream",
     "text": [
      "Value count in train_batches: \n",
      "1    3169\n",
      "0    1059\n",
      "dtype: int64\n",
      "Value count in valid_batches: \n",
      "1    775\n",
      "0    283\n",
      "dtype: int64\n"
     ]
    }
   ],
   "source": [
    "train_batches_series = pd.Series(train_batches.classes)\n",
    "valid_batches_series = pd.Series(valid_batches.classes)\n",
    "\n",
    "print(f'Value count in train_batches: \\n{ train_batches_series.value_counts() }')\n",
    "print(f'Value count in valid_batches: \\n{ valid_batches_series.value_counts() }')"
   ]
  },
  {
   "cell_type": "markdown",
   "metadata": {},
   "source": [
    "## 3. Fine tuning "
   ]
  },
  {
   "cell_type": "code",
   "execution_count": 10,
   "metadata": {
    "execution": {
     "iopub.execute_input": "2021-08-04T07:31:57.939448Z",
     "iopub.status.busy": "2021-08-04T07:31:57.938837Z",
     "iopub.status.idle": "2021-08-04T07:31:57.945412Z",
     "shell.execute_reply": "2021-08-04T07:31:57.944501Z",
     "shell.execute_reply.started": "2021-08-04T07:31:57.939406Z"
    }
   },
   "outputs": [],
   "source": [
    "def create_dir(dir_path):\n",
    "    if not os.path.exists(dir_path):\n",
    "        os.mkdir(dir_path)\n",
    "        \n",
    "create_dir('models')"
   ]
  },
  {
   "cell_type": "markdown",
   "metadata": {},
   "source": [
    "**Preprocessing layer**"
   ]
  },
  {
   "cell_type": "code",
   "execution_count": 11,
   "metadata": {
    "execution": {
     "iopub.execute_input": "2021-08-04T07:31:57.947242Z",
     "iopub.status.busy": "2021-08-04T07:31:57.946776Z",
     "iopub.status.idle": "2021-08-04T07:31:59.851700Z",
     "shell.execute_reply": "2021-08-04T07:31:59.850745Z",
     "shell.execute_reply.started": "2021-08-04T07:31:57.947172Z"
    }
   },
   "outputs": [],
   "source": [
    "resize_and_rescale = Sequential([\n",
    "    Resizing(224, 224),\n",
    "    Rescaling(1./255)\n",
    "])"
   ]
  },
  {
   "cell_type": "markdown",
   "metadata": {},
   "source": [
    "**Initialize metric**"
   ]
  },
  {
   "cell_type": "code",
   "execution_count": 12,
   "metadata": {
    "execution": {
     "iopub.execute_input": "2021-08-04T07:31:59.853453Z",
     "iopub.status.busy": "2021-08-04T07:31:59.853083Z",
     "iopub.status.idle": "2021-08-04T07:31:59.882716Z",
     "shell.execute_reply": "2021-08-04T07:31:59.881920Z",
     "shell.execute_reply.started": "2021-08-04T07:31:59.853416Z"
    }
   },
   "outputs": [],
   "source": [
    "metrics = [TruePositives(name='TP'),\n",
    "           TrueNegatives(name='TN'),\n",
    "           FalsePositives(name='FP'),\n",
    "           FalseNegatives(name='FN'),\n",
    "           AUC(curve='PR', name='AUC')]"
   ]
  },
  {
   "cell_type": "code",
   "execution_count": 13,
   "metadata": {
    "execution": {
     "iopub.execute_input": "2021-08-04T07:31:59.884277Z",
     "iopub.status.busy": "2021-08-04T07:31:59.883920Z",
     "iopub.status.idle": "2021-08-04T07:32:00.845094Z",
     "shell.execute_reply": "2021-08-04T07:32:00.843792Z",
     "shell.execute_reply.started": "2021-08-04T07:31:59.884237Z"
    }
   },
   "outputs": [
    {
     "name": "stdout",
     "output_type": "stream",
     "text": [
      "Downloading data from https://storage.googleapis.com/tensorflow/keras-applications/vgg16/vgg16_weights_tf_dim_ordering_tf_kernels_notop.h5\n",
      "58892288/58889256 [==============================] - 0s 0us/step\n"
     ]
    }
   ],
   "source": [
    "pretrained_vgg16 = VGG16(weights=\"imagenet\", include_top=False, input_shape=(224, 224, 3), pooling='avg')"
   ]
  },
  {
   "cell_type": "code",
   "execution_count": 14,
   "metadata": {
    "execution": {
     "iopub.execute_input": "2021-08-04T07:32:00.848289Z",
     "iopub.status.busy": "2021-08-04T07:32:00.847375Z",
     "iopub.status.idle": "2021-08-04T07:32:00.863032Z",
     "shell.execute_reply": "2021-08-04T07:32:00.861919Z",
     "shell.execute_reply.started": "2021-08-04T07:32:00.848247Z"
    }
   },
   "outputs": [],
   "source": [
    "# Preprocessing layer\n",
    "ft_vgg16 = Sequential([resize_and_rescale])\n",
    "# Feature extractor layer\n",
    "ft_vgg16.add(pretrained_vgg16)\n",
    "# Classifier layer\n",
    "ft_vgg16.add(Dense(1, activation='sigmoid'))"
   ]
  },
  {
   "cell_type": "code",
   "execution_count": 15,
   "metadata": {
    "execution": {
     "iopub.execute_input": "2021-08-04T07:32:00.865956Z",
     "iopub.status.busy": "2021-08-04T07:32:00.865177Z",
     "iopub.status.idle": "2021-08-04T07:32:00.870589Z",
     "shell.execute_reply": "2021-08-04T07:32:00.869523Z",
     "shell.execute_reply.started": "2021-08-04T07:32:00.865916Z"
    }
   },
   "outputs": [],
   "source": [
    "# Freeze\n",
    "#for layer in ft_vgg16.layers[:3]:\n",
    "#    layer.trainable = False"
   ]
  },
  {
   "cell_type": "code",
   "execution_count": 16,
   "metadata": {
    "execution": {
     "iopub.execute_input": "2021-08-04T07:32:00.875373Z",
     "iopub.status.busy": "2021-08-04T07:32:00.874540Z",
     "iopub.status.idle": "2021-08-04T07:32:00.884560Z",
     "shell.execute_reply": "2021-08-04T07:32:00.883477Z",
     "shell.execute_reply.started": "2021-08-04T07:32:00.875338Z"
    }
   },
   "outputs": [],
   "source": [
    "model_dir = 'models/resnet16'\n",
    "model_file = 'best_resnet16.hdf5'\n",
    "\n",
    "create_dir(model_dir)\n",
    "\n",
    "checkpoint = ModelCheckpoint(os.path.join(model_dir, model_file),\n",
    "                             monitor='val_loss',\n",
    "                             verbose=1,\n",
    "                             save_best_only=True,\n",
    "                             save_weights_only=False)\n",
    "\n",
    "early_stopping = EarlyStopping(monitor='val_loss',\n",
    "                               patience=30,\n",
    "                               verbose=1,\n",
    "                               restore_best_weights=True)"
   ]
  },
  {
   "cell_type": "code",
   "execution_count": 17,
   "metadata": {
    "execution": {
     "iopub.execute_input": "2021-08-04T07:32:00.892531Z",
     "iopub.status.busy": "2021-08-04T07:32:00.889166Z",
     "iopub.status.idle": "2021-08-04T10:04:51.837201Z",
     "shell.execute_reply": "2021-08-04T10:04:51.836306Z",
     "shell.execute_reply.started": "2021-08-04T07:32:00.889771Z"
    }
   },
   "outputs": [
    {
     "name": "stdout",
     "output_type": "stream",
     "text": [
      "Epoch 1/200\n",
      "34/34 - 179s - loss: 0.4291 - TP: 2966.0000 - TN: 376.0000 - FP: 683.0000 - FN: 203.0000 - AUC: 0.9336 - val_loss: 0.2654 - val_TP: 769.0000 - val_TN: 127.0000 - val_FP: 156.0000 - val_FN: 6.0000 - val_AUC: 0.9921\n",
      "\n",
      "Epoch 00001: val_loss improved from inf to 0.26543, saving model to models/resnet16/best_resnet16.hdf5\n",
      "Epoch 2/200\n",
      "34/34 - 138s - loss: 0.2243 - TP: 2982.0000 - TN: 861.0000 - FP: 198.0000 - FN: 187.0000 - AUC: 0.9855 - val_loss: 0.2620 - val_TP: 641.0000 - val_TN: 278.0000 - val_FP: 5.0000 - val_FN: 134.0000 - val_AUC: 0.9958\n",
      "\n",
      "Epoch 00002: val_loss improved from 0.26543 to 0.26201, saving model to models/resnet16/best_resnet16.hdf5\n",
      "Epoch 3/200\n",
      "34/34 - 137s - loss: 0.2247 - TP: 3012.0000 - TN: 836.0000 - FP: 223.0000 - FN: 157.0000 - AUC: 0.9848 - val_loss: 0.3846 - val_TP: 594.0000 - val_TN: 280.0000 - val_FP: 3.0000 - val_FN: 181.0000 - val_AUC: 0.9933\n",
      "\n",
      "Epoch 00003: val_loss did not improve from 0.26201\n",
      "Epoch 4/200\n",
      "34/34 - 135s - loss: 0.1913 - TP: 2988.0000 - TN: 913.0000 - FP: 146.0000 - FN: 181.0000 - AUC: 0.9898 - val_loss: 0.1734 - val_TP: 702.0000 - val_TN: 279.0000 - val_FP: 4.0000 - val_FN: 73.0000 - val_AUC: 0.9970\n",
      "\n",
      "Epoch 00004: val_loss improved from 0.26201 to 0.17345, saving model to models/resnet16/best_resnet16.hdf5\n",
      "Epoch 5/200\n",
      "34/34 - 135s - loss: 0.1251 - TP: 3057.0000 - TN: 966.0000 - FP: 93.0000 - FN: 112.0000 - AUC: 0.9945 - val_loss: 0.1338 - val_TP: 725.0000 - val_TN: 278.0000 - val_FP: 5.0000 - val_FN: 50.0000 - val_AUC: 0.9979\n",
      "\n",
      "Epoch 00005: val_loss improved from 0.17345 to 0.13381, saving model to models/resnet16/best_resnet16.hdf5\n",
      "Epoch 6/200\n",
      "34/34 - 137s - loss: 0.1154 - TP: 3075.0000 - TN: 978.0000 - FP: 81.0000 - FN: 94.0000 - AUC: 0.9951 - val_loss: 0.2660 - val_TP: 659.0000 - val_TN: 281.0000 - val_FP: 2.0000 - val_FN: 116.0000 - val_AUC: 0.9979\n",
      "\n",
      "Epoch 00006: val_loss did not improve from 0.13381\n",
      "Epoch 7/200\n",
      "34/34 - 137s - loss: 0.2502 - TP: 2973.0000 - TN: 832.0000 - FP: 227.0000 - FN: 196.0000 - AUC: 0.9825 - val_loss: 0.1229 - val_TP: 756.0000 - val_TN: 256.0000 - val_FP: 27.0000 - val_FN: 19.0000 - val_AUC: 0.9961\n",
      "\n",
      "Epoch 00007: val_loss improved from 0.13381 to 0.12286, saving model to models/resnet16/best_resnet16.hdf5\n",
      "Epoch 8/200\n",
      "34/34 - 141s - loss: 0.1384 - TP: 3051.0000 - TN: 953.0000 - FP: 106.0000 - FN: 118.0000 - AUC: 0.9930 - val_loss: 0.1123 - val_TP: 740.0000 - val_TN: 275.0000 - val_FP: 8.0000 - val_FN: 35.0000 - val_AUC: 0.9976\n",
      "\n",
      "Epoch 00008: val_loss improved from 0.12286 to 0.11226, saving model to models/resnet16/best_resnet16.hdf5\n",
      "Epoch 9/200\n",
      "34/34 - 136s - loss: 0.1149 - TP: 3060.0000 - TN: 977.0000 - FP: 82.0000 - FN: 109.0000 - AUC: 0.9955 - val_loss: 0.0895 - val_TP: 754.0000 - val_TN: 268.0000 - val_FP: 15.0000 - val_FN: 21.0000 - val_AUC: 0.9977\n",
      "\n",
      "Epoch 00009: val_loss improved from 0.11226 to 0.08950, saving model to models/resnet16/best_resnet16.hdf5\n",
      "Epoch 10/200\n",
      "34/34 - 135s - loss: 0.1105 - TP: 3075.0000 - TN: 977.0000 - FP: 82.0000 - FN: 94.0000 - AUC: 0.9964 - val_loss: 0.1247 - val_TP: 732.0000 - val_TN: 275.0000 - val_FP: 8.0000 - val_FN: 43.0000 - val_AUC: 0.9980\n",
      "\n",
      "Epoch 00010: val_loss did not improve from 0.08950\n",
      "Epoch 11/200\n",
      "34/34 - 134s - loss: 0.1106 - TP: 3073.0000 - TN: 979.0000 - FP: 80.0000 - FN: 96.0000 - AUC: 0.9955 - val_loss: 0.1495 - val_TP: 710.0000 - val_TN: 278.0000 - val_FP: 5.0000 - val_FN: 65.0000 - val_AUC: 0.9980\n",
      "\n",
      "Epoch 00011: val_loss did not improve from 0.08950\n",
      "Epoch 12/200\n",
      "34/34 - 135s - loss: 0.0972 - TP: 3090.0000 - TN: 985.0000 - FP: 74.0000 - FN: 79.0000 - AUC: 0.9975 - val_loss: 0.2089 - val_TP: 682.0000 - val_TN: 280.0000 - val_FP: 3.0000 - val_FN: 93.0000 - val_AUC: 0.9976\n",
      "\n",
      "Epoch 00012: val_loss did not improve from 0.08950\n",
      "Epoch 13/200\n",
      "34/34 - 135s - loss: 0.1043 - TP: 3081.0000 - TN: 983.0000 - FP: 76.0000 - FN: 88.0000 - AUC: 0.9961 - val_loss: 0.1336 - val_TP: 726.0000 - val_TN: 278.0000 - val_FP: 5.0000 - val_FN: 49.0000 - val_AUC: 0.9983\n",
      "\n",
      "Epoch 00013: val_loss did not improve from 0.08950\n",
      "Epoch 14/200\n",
      "34/34 - 137s - loss: 0.0787 - TP: 3103.0000 - TN: 1006.0000 - FP: 53.0000 - FN: 66.0000 - AUC: 0.9980 - val_loss: 0.0895 - val_TP: 745.0000 - val_TN: 275.0000 - val_FP: 8.0000 - val_FN: 30.0000 - val_AUC: 0.9982\n",
      "\n",
      "Epoch 00014: val_loss improved from 0.08950 to 0.08949, saving model to models/resnet16/best_resnet16.hdf5\n",
      "Epoch 15/200\n",
      "34/34 - 141s - loss: 0.0872 - TP: 3097.0000 - TN: 991.0000 - FP: 68.0000 - FN: 72.0000 - AUC: 0.9967 - val_loss: 0.0952 - val_TP: 744.0000 - val_TN: 275.0000 - val_FP: 8.0000 - val_FN: 31.0000 - val_AUC: 0.9983\n",
      "\n",
      "Epoch 00015: val_loss did not improve from 0.08949\n",
      "Epoch 16/200\n",
      "34/34 - 136s - loss: 0.0904 - TP: 3088.0000 - TN: 997.0000 - FP: 62.0000 - FN: 81.0000 - AUC: 0.9975 - val_loss: 0.0893 - val_TP: 755.0000 - val_TN: 267.0000 - val_FP: 16.0000 - val_FN: 20.0000 - val_AUC: 0.9978\n",
      "\n",
      "Epoch 00016: val_loss improved from 0.08949 to 0.08929, saving model to models/resnet16/best_resnet16.hdf5\n",
      "Epoch 17/200\n",
      "34/34 - 135s - loss: 0.1001 - TP: 3082.0000 - TN: 982.0000 - FP: 77.0000 - FN: 87.0000 - AUC: 0.9964 - val_loss: 0.0692 - val_TP: 764.0000 - val_TN: 271.0000 - val_FP: 12.0000 - val_FN: 11.0000 - val_AUC: 0.9987\n",
      "\n",
      "Epoch 00017: val_loss improved from 0.08929 to 0.06921, saving model to models/resnet16/best_resnet16.hdf5\n",
      "Epoch 18/200\n",
      "34/34 - 134s - loss: 0.0749 - TP: 3106.0000 - TN: 1001.0000 - FP: 58.0000 - FN: 63.0000 - AUC: 0.9978 - val_loss: 0.0712 - val_TP: 755.0000 - val_TN: 277.0000 - val_FP: 6.0000 - val_FN: 20.0000 - val_AUC: 0.9989\n",
      "\n",
      "Epoch 00018: val_loss did not improve from 0.06921\n",
      "Epoch 19/200\n",
      "34/34 - 135s - loss: 0.0867 - TP: 3095.0000 - TN: 997.0000 - FP: 62.0000 - FN: 74.0000 - AUC: 0.9970 - val_loss: 0.0778 - val_TP: 751.0000 - val_TN: 277.0000 - val_FP: 6.0000 - val_FN: 24.0000 - val_AUC: 0.9985\n",
      "\n",
      "Epoch 00019: val_loss did not improve from 0.06921\n",
      "Epoch 20/200\n",
      "34/34 - 135s - loss: 0.0706 - TP: 3115.0000 - TN: 1010.0000 - FP: 49.0000 - FN: 54.0000 - AUC: 0.9980 - val_loss: 0.1040 - val_TP: 743.0000 - val_TN: 277.0000 - val_FP: 6.0000 - val_FN: 32.0000 - val_AUC: 0.9984\n",
      "\n",
      "Epoch 00020: val_loss did not improve from 0.06921\n",
      "Epoch 21/200\n",
      "34/34 - 137s - loss: 0.0676 - TP: 3119.0000 - TN: 1012.0000 - FP: 47.0000 - FN: 50.0000 - AUC: 0.9981 - val_loss: 0.1393 - val_TP: 725.0000 - val_TN: 279.0000 - val_FP: 4.0000 - val_FN: 50.0000 - val_AUC: 0.9985\n",
      "\n",
      "Epoch 00021: val_loss did not improve from 0.06921\n",
      "Epoch 22/200\n",
      "34/34 - 136s - loss: 0.0753 - TP: 3108.0000 - TN: 1010.0000 - FP: 49.0000 - FN: 61.0000 - AUC: 0.9978 - val_loss: 0.0914 - val_TP: 747.0000 - val_TN: 276.0000 - val_FP: 7.0000 - val_FN: 28.0000 - val_AUC: 0.9982\n",
      "\n",
      "Epoch 00022: val_loss did not improve from 0.06921\n",
      "Epoch 23/200\n",
      "34/34 - 135s - loss: 0.0712 - TP: 3112.0000 - TN: 1000.0000 - FP: 59.0000 - FN: 57.0000 - AUC: 0.9983 - val_loss: 0.0938 - val_TP: 746.0000 - val_TN: 277.0000 - val_FP: 6.0000 - val_FN: 29.0000 - val_AUC: 0.9984\n",
      "\n",
      "Epoch 00023: val_loss did not improve from 0.06921\n",
      "Epoch 24/200\n",
      "34/34 - 138s - loss: 0.0543 - TP: 3110.0000 - TN: 1018.0000 - FP: 41.0000 - FN: 59.0000 - AUC: 0.9992 - val_loss: 0.1193 - val_TP: 726.0000 - val_TN: 279.0000 - val_FP: 4.0000 - val_FN: 49.0000 - val_AUC: 0.9988\n",
      "\n",
      "Epoch 00024: val_loss did not improve from 0.06921\n",
      "Epoch 25/200\n",
      "34/34 - 135s - loss: 0.0515 - TP: 3128.0000 - TN: 1025.0000 - FP: 34.0000 - FN: 41.0000 - AUC: 0.9986 - val_loss: 0.0671 - val_TP: 760.0000 - val_TN: 275.0000 - val_FP: 8.0000 - val_FN: 15.0000 - val_AUC: 0.9988\n",
      "\n",
      "Epoch 00025: val_loss improved from 0.06921 to 0.06710, saving model to models/resnet16/best_resnet16.hdf5\n",
      "Epoch 26/200\n",
      "34/34 - 135s - loss: 0.0523 - TP: 3126.0000 - TN: 1015.0000 - FP: 44.0000 - FN: 43.0000 - AUC: 0.9986 - val_loss: 0.1028 - val_TP: 736.0000 - val_TN: 278.0000 - val_FP: 5.0000 - val_FN: 39.0000 - val_AUC: 0.9988\n",
      "\n",
      "Epoch 00026: val_loss did not improve from 0.06710\n",
      "Epoch 27/200\n",
      "34/34 - 135s - loss: 0.0598 - TP: 3121.0000 - TN: 1013.0000 - FP: 46.0000 - FN: 48.0000 - AUC: 0.9990 - val_loss: 0.0753 - val_TP: 756.0000 - val_TN: 274.0000 - val_FP: 9.0000 - val_FN: 19.0000 - val_AUC: 0.9973\n",
      "\n",
      "Epoch 00027: val_loss did not improve from 0.06710\n",
      "Epoch 28/200\n",
      "34/34 - 136s - loss: 0.0822 - TP: 3089.0000 - TN: 997.0000 - FP: 62.0000 - FN: 80.0000 - AUC: 0.9979 - val_loss: 0.0894 - val_TP: 743.0000 - val_TN: 276.0000 - val_FP: 7.0000 - val_FN: 32.0000 - val_AUC: 0.9986\n",
      "\n",
      "Epoch 00028: val_loss did not improve from 0.06710\n",
      "Epoch 29/200\n",
      "34/34 - 134s - loss: 0.0625 - TP: 3117.0000 - TN: 1008.0000 - FP: 51.0000 - FN: 52.0000 - AUC: 0.9983 - val_loss: 0.0719 - val_TP: 760.0000 - val_TN: 275.0000 - val_FP: 8.0000 - val_FN: 15.0000 - val_AUC: 0.9973\n",
      "\n",
      "Epoch 00029: val_loss did not improve from 0.06710\n",
      "Epoch 30/200\n",
      "34/34 - 134s - loss: 0.0513 - TP: 3124.0000 - TN: 1024.0000 - FP: 35.0000 - FN: 45.0000 - AUC: 0.9990 - val_loss: 0.1160 - val_TP: 731.0000 - val_TN: 280.0000 - val_FP: 3.0000 - val_FN: 44.0000 - val_AUC: 0.9987\n",
      "\n",
      "Epoch 00030: val_loss did not improve from 0.06710\n",
      "Epoch 31/200\n",
      "34/34 - 135s - loss: 0.0626 - TP: 3119.0000 - TN: 1015.0000 - FP: 44.0000 - FN: 50.0000 - AUC: 0.9989 - val_loss: 0.0746 - val_TP: 751.0000 - val_TN: 277.0000 - val_FP: 6.0000 - val_FN: 24.0000 - val_AUC: 0.9988\n",
      "\n",
      "Epoch 00031: val_loss did not improve from 0.06710\n",
      "Epoch 32/200\n",
      "34/34 - 134s - loss: 0.0448 - TP: 3131.0000 - TN: 1027.0000 - FP: 32.0000 - FN: 38.0000 - AUC: 0.9989 - val_loss: 0.0840 - val_TP: 754.0000 - val_TN: 277.0000 - val_FP: 6.0000 - val_FN: 21.0000 - val_AUC: 0.9970\n",
      "\n",
      "Epoch 00032: val_loss did not improve from 0.06710\n",
      "Epoch 33/200\n",
      "34/34 - 136s - loss: 0.0390 - TP: 3131.0000 - TN: 1029.0000 - FP: 30.0000 - FN: 38.0000 - AUC: 0.9996 - val_loss: 0.0794 - val_TP: 757.0000 - val_TN: 276.0000 - val_FP: 7.0000 - val_FN: 18.0000 - val_AUC: 0.9973\n",
      "\n",
      "Epoch 00033: val_loss did not improve from 0.06710\n",
      "Epoch 34/200\n",
      "34/34 - 133s - loss: 0.0398 - TP: 3136.0000 - TN: 1030.0000 - FP: 29.0000 - FN: 33.0000 - AUC: 0.9996 - val_loss: 0.0752 - val_TP: 770.0000 - val_TN: 265.0000 - val_FP: 18.0000 - val_FN: 5.0000 - val_AUC: 0.9949\n",
      "\n",
      "Epoch 00034: val_loss did not improve from 0.06710\n",
      "Epoch 35/200\n",
      "34/34 - 136s - loss: 0.0564 - TP: 3115.0000 - TN: 1016.0000 - FP: 43.0000 - FN: 54.0000 - AUC: 0.9988 - val_loss: 0.0807 - val_TP: 750.0000 - val_TN: 278.0000 - val_FP: 5.0000 - val_FN: 25.0000 - val_AUC: 0.9988\n",
      "\n",
      "Epoch 00035: val_loss did not improve from 0.06710\n",
      "Epoch 36/200\n",
      "34/34 - 135s - loss: 0.0363 - TP: 3136.0000 - TN: 1030.0000 - FP: 29.0000 - FN: 33.0000 - AUC: 0.9993 - val_loss: 0.1550 - val_TP: 718.0000 - val_TN: 281.0000 - val_FP: 2.0000 - val_FN: 57.0000 - val_AUC: 0.9984\n",
      "\n",
      "Epoch 00036: val_loss did not improve from 0.06710\n",
      "Epoch 37/200\n",
      "34/34 - 135s - loss: 0.0500 - TP: 3127.0000 - TN: 1020.0000 - FP: 39.0000 - FN: 42.0000 - AUC: 0.9993 - val_loss: 0.0600 - val_TP: 763.0000 - val_TN: 275.0000 - val_FP: 8.0000 - val_FN: 12.0000 - val_AUC: 0.9990\n",
      "\n",
      "Epoch 00037: val_loss improved from 0.06710 to 0.05997, saving model to models/resnet16/best_resnet16.hdf5\n",
      "Epoch 38/200\n",
      "34/34 - 135s - loss: 0.0540 - TP: 3116.0000 - TN: 1023.0000 - FP: 36.0000 - FN: 53.0000 - AUC: 0.9986 - val_loss: 0.1039 - val_TP: 744.0000 - val_TN: 280.0000 - val_FP: 3.0000 - val_FN: 31.0000 - val_AUC: 0.9980\n",
      "\n",
      "Epoch 00038: val_loss did not improve from 0.05997\n",
      "Epoch 39/200\n",
      "34/34 - 138s - loss: 0.0438 - TP: 3128.0000 - TN: 1024.0000 - FP: 35.0000 - FN: 41.0000 - AUC: 0.9995 - val_loss: 0.0669 - val_TP: 755.0000 - val_TN: 275.0000 - val_FP: 8.0000 - val_FN: 20.0000 - val_AUC: 0.9990\n",
      "\n",
      "Epoch 00039: val_loss did not improve from 0.05997\n",
      "Epoch 40/200\n",
      "34/34 - 139s - loss: 0.0340 - TP: 3144.0000 - TN: 1036.0000 - FP: 23.0000 - FN: 25.0000 - AUC: 0.9994 - val_loss: 0.0896 - val_TP: 748.0000 - val_TN: 279.0000 - val_FP: 4.0000 - val_FN: 27.0000 - val_AUC: 0.9974\n",
      "\n",
      "Epoch 00040: val_loss did not improve from 0.05997\n",
      "Epoch 41/200\n",
      "34/34 - 134s - loss: 0.0515 - TP: 3134.0000 - TN: 1017.0000 - FP: 42.0000 - FN: 35.0000 - AUC: 0.9984 - val_loss: 0.3412 - val_TP: 771.0000 - val_TN: 191.0000 - val_FP: 92.0000 - val_FN: 4.0000 - val_AUC: 0.9729\n",
      "\n",
      "Epoch 00041: val_loss did not improve from 0.05997\n",
      "Epoch 42/200\n",
      "34/34 - 134s - loss: 0.0910 - TP: 3109.0000 - TN: 986.0000 - FP: 73.0000 - FN: 60.0000 - AUC: 0.9964 - val_loss: 0.0832 - val_TP: 746.0000 - val_TN: 278.0000 - val_FP: 5.0000 - val_FN: 29.0000 - val_AUC: 0.9987\n",
      "\n",
      "Epoch 00042: val_loss did not improve from 0.05997\n",
      "Epoch 43/200\n",
      "34/34 - 134s - loss: 0.0933 - TP: 3094.0000 - TN: 987.0000 - FP: 72.0000 - FN: 75.0000 - AUC: 0.9973 - val_loss: 0.0880 - val_TP: 747.0000 - val_TN: 276.0000 - val_FP: 7.0000 - val_FN: 28.0000 - val_AUC: 0.9987\n",
      "\n",
      "Epoch 00043: val_loss did not improve from 0.05997\n",
      "Epoch 44/200\n",
      "34/34 - 134s - loss: 0.0517 - TP: 3128.0000 - TN: 1017.0000 - FP: 42.0000 - FN: 41.0000 - AUC: 0.9993 - val_loss: 0.0755 - val_TP: 755.0000 - val_TN: 276.0000 - val_FP: 7.0000 - val_FN: 20.0000 - val_AUC: 0.9959\n",
      "\n",
      "Epoch 00044: val_loss did not improve from 0.05997\n",
      "Epoch 45/200\n",
      "34/34 - 136s - loss: 0.0450 - TP: 3135.0000 - TN: 1024.0000 - FP: 35.0000 - FN: 34.0000 - AUC: 0.9994 - val_loss: 0.0852 - val_TP: 750.0000 - val_TN: 275.0000 - val_FP: 8.0000 - val_FN: 25.0000 - val_AUC: 0.9986\n",
      "\n",
      "Epoch 00045: val_loss did not improve from 0.05997\n",
      "Epoch 46/200\n",
      "34/34 - 133s - loss: 0.0327 - TP: 3142.0000 - TN: 1038.0000 - FP: 21.0000 - FN: 27.0000 - AUC: 0.9997 - val_loss: 0.1110 - val_TP: 740.0000 - val_TN: 279.0000 - val_FP: 4.0000 - val_FN: 35.0000 - val_AUC: 0.9969\n",
      "\n",
      "Epoch 00046: val_loss did not improve from 0.05997\n",
      "Epoch 47/200\n",
      "34/34 - 137s - loss: 0.0338 - TP: 3141.0000 - TN: 1032.0000 - FP: 27.0000 - FN: 28.0000 - AUC: 0.9997 - val_loss: 0.1455 - val_TP: 726.0000 - val_TN: 279.0000 - val_FP: 4.0000 - val_FN: 49.0000 - val_AUC: 0.9980\n",
      "\n",
      "Epoch 00047: val_loss did not improve from 0.05997\n",
      "Epoch 48/200\n",
      "34/34 - 137s - loss: 0.0322 - TP: 3144.0000 - TN: 1030.0000 - FP: 29.0000 - FN: 25.0000 - AUC: 0.9997 - val_loss: 0.0931 - val_TP: 746.0000 - val_TN: 279.0000 - val_FP: 4.0000 - val_FN: 29.0000 - val_AUC: 0.9984\n",
      "\n",
      "Epoch 00048: val_loss did not improve from 0.05997\n",
      "Epoch 49/200\n",
      "34/34 - 136s - loss: 0.0242 - TP: 3147.0000 - TN: 1043.0000 - FP: 16.0000 - FN: 22.0000 - AUC: 0.9999 - val_loss: 0.0829 - val_TP: 757.0000 - val_TN: 277.0000 - val_FP: 6.0000 - val_FN: 18.0000 - val_AUC: 0.9974\n",
      "\n",
      "Epoch 00049: val_loss did not improve from 0.05997\n",
      "Epoch 50/200\n",
      "34/34 - 137s - loss: 0.0514 - TP: 3124.0000 - TN: 1018.0000 - FP: 41.0000 - FN: 45.0000 - AUC: 0.9990 - val_loss: 0.0721 - val_TP: 756.0000 - val_TN: 274.0000 - val_FP: 9.0000 - val_FN: 19.0000 - val_AUC: 0.9987\n",
      "\n",
      "Epoch 00050: val_loss did not improve from 0.05997\n",
      "Epoch 51/200\n",
      "34/34 - 136s - loss: 0.0541 - TP: 3127.0000 - TN: 1019.0000 - FP: 40.0000 - FN: 42.0000 - AUC: 0.9982 - val_loss: 0.0894 - val_TP: 754.0000 - val_TN: 273.0000 - val_FP: 10.0000 - val_FN: 21.0000 - val_AUC: 0.9960\n",
      "\n",
      "Epoch 00051: val_loss did not improve from 0.05997\n",
      "Epoch 52/200\n",
      "34/34 - 138s - loss: 0.0269 - TP: 3147.0000 - TN: 1043.0000 - FP: 16.0000 - FN: 22.0000 - AUC: 0.9998 - val_loss: 0.0779 - val_TP: 762.0000 - val_TN: 274.0000 - val_FP: 9.0000 - val_FN: 13.0000 - val_AUC: 0.9963\n",
      "\n",
      "Epoch 00052: val_loss did not improve from 0.05997\n",
      "Epoch 53/200\n",
      "34/34 - 137s - loss: 0.0328 - TP: 3143.0000 - TN: 1030.0000 - FP: 29.0000 - FN: 26.0000 - AUC: 0.9994 - val_loss: 0.0863 - val_TP: 743.0000 - val_TN: 279.0000 - val_FP: 4.0000 - val_FN: 32.0000 - val_AUC: 0.9988\n",
      "\n",
      "Epoch 00053: val_loss did not improve from 0.05997\n",
      "Epoch 54/200\n",
      "34/34 - 136s - loss: 0.1160 - TP: 3098.0000 - TN: 963.0000 - FP: 96.0000 - FN: 71.0000 - AUC: 0.9949 - val_loss: 0.1034 - val_TP: 738.0000 - val_TN: 277.0000 - val_FP: 6.0000 - val_FN: 37.0000 - val_AUC: 0.9985\n",
      "\n",
      "Epoch 00054: val_loss did not improve from 0.05997\n",
      "Epoch 55/200\n",
      "34/34 - 137s - loss: 0.0568 - TP: 3119.0000 - TN: 1014.0000 - FP: 45.0000 - FN: 50.0000 - AUC: 0.9992 - val_loss: 0.0935 - val_TP: 744.0000 - val_TN: 277.0000 - val_FP: 6.0000 - val_FN: 31.0000 - val_AUC: 0.9985\n",
      "\n",
      "Epoch 00055: val_loss did not improve from 0.05997\n",
      "Epoch 56/200\n",
      "34/34 - 137s - loss: 0.0444 - TP: 3131.0000 - TN: 1024.0000 - FP: 35.0000 - FN: 38.0000 - AUC: 0.9994 - val_loss: 0.0833 - val_TP: 749.0000 - val_TN: 279.0000 - val_FP: 4.0000 - val_FN: 26.0000 - val_AUC: 0.9987\n",
      "\n",
      "Epoch 00056: val_loss did not improve from 0.05997\n",
      "Epoch 57/200\n",
      "34/34 - 136s - loss: 0.0267 - TP: 3146.0000 - TN: 1041.0000 - FP: 18.0000 - FN: 23.0000 - AUC: 0.9998 - val_loss: 0.1031 - val_TP: 746.0000 - val_TN: 278.0000 - val_FP: 5.0000 - val_FN: 29.0000 - val_AUC: 0.9985\n",
      "\n",
      "Epoch 00057: val_loss did not improve from 0.05997\n",
      "Epoch 58/200\n",
      "34/34 - 135s - loss: 0.0264 - TP: 3150.0000 - TN: 1041.0000 - FP: 18.0000 - FN: 19.0000 - AUC: 0.9998 - val_loss: 0.0728 - val_TP: 760.0000 - val_TN: 276.0000 - val_FP: 7.0000 - val_FN: 15.0000 - val_AUC: 0.9951\n",
      "\n",
      "Epoch 00058: val_loss did not improve from 0.05997\n",
      "Epoch 59/200\n",
      "34/34 - 136s - loss: 0.0222 - TP: 3156.0000 - TN: 1044.0000 - FP: 15.0000 - FN: 13.0000 - AUC: 0.9995 - val_loss: 0.1064 - val_TP: 750.0000 - val_TN: 279.0000 - val_FP: 4.0000 - val_FN: 25.0000 - val_AUC: 0.9972\n",
      "\n",
      "Epoch 00059: val_loss did not improve from 0.05997\n",
      "Epoch 60/200\n",
      "34/34 - 136s - loss: 0.0342 - TP: 3141.0000 - TN: 1035.0000 - FP: 24.0000 - FN: 28.0000 - AUC: 0.9996 - val_loss: 0.0780 - val_TP: 757.0000 - val_TN: 275.0000 - val_FP: 8.0000 - val_FN: 18.0000 - val_AUC: 0.9963\n",
      "\n",
      "Epoch 00060: val_loss did not improve from 0.05997\n",
      "Epoch 61/200\n",
      "34/34 - 136s - loss: 0.0268 - TP: 3153.0000 - TN: 1037.0000 - FP: 22.0000 - FN: 16.0000 - AUC: 0.9995 - val_loss: 0.0729 - val_TP: 761.0000 - val_TN: 277.0000 - val_FP: 6.0000 - val_FN: 14.0000 - val_AUC: 0.9960\n",
      "\n",
      "Epoch 00061: val_loss did not improve from 0.05997\n",
      "Epoch 62/200\n",
      "34/34 - 137s - loss: 0.0206 - TP: 3155.0000 - TN: 1045.0000 - FP: 14.0000 - FN: 14.0000 - AUC: 0.9999 - val_loss: 0.1382 - val_TP: 734.0000 - val_TN: 279.0000 - val_FP: 4.0000 - val_FN: 41.0000 - val_AUC: 0.9981\n",
      "\n",
      "Epoch 00062: val_loss did not improve from 0.05997\n",
      "Epoch 63/200\n",
      "34/34 - 137s - loss: 0.0174 - TP: 3154.0000 - TN: 1051.0000 - FP: 8.0000 - FN: 15.0000 - AUC: 0.9996 - val_loss: 0.0902 - val_TP: 757.0000 - val_TN: 272.0000 - val_FP: 11.0000 - val_FN: 18.0000 - val_AUC: 0.9943\n",
      "\n",
      "Epoch 00063: val_loss did not improve from 0.05997\n",
      "Epoch 64/200\n",
      "34/34 - 135s - loss: 0.0196 - TP: 3153.0000 - TN: 1047.0000 - FP: 12.0000 - FN: 16.0000 - AUC: 0.9999 - val_loss: 0.0900 - val_TP: 768.0000 - val_TN: 269.0000 - val_FP: 14.0000 - val_FN: 7.0000 - val_AUC: 0.9939\n",
      "\n",
      "Epoch 00064: val_loss did not improve from 0.05997\n",
      "Epoch 65/200\n",
      "34/34 - 136s - loss: 0.0292 - TP: 3143.0000 - TN: 1036.0000 - FP: 23.0000 - FN: 26.0000 - AUC: 0.9995 - val_loss: 0.0895 - val_TP: 751.0000 - val_TN: 278.0000 - val_FP: 5.0000 - val_FN: 24.0000 - val_AUC: 0.9972\n",
      "\n",
      "Epoch 00065: val_loss did not improve from 0.05997\n",
      "Epoch 66/200\n",
      "34/34 - 137s - loss: 0.0242 - TP: 3148.0000 - TN: 1044.0000 - FP: 15.0000 - FN: 21.0000 - AUC: 0.9992 - val_loss: 0.1250 - val_TP: 746.0000 - val_TN: 278.0000 - val_FP: 5.0000 - val_FN: 29.0000 - val_AUC: 0.9950\n",
      "\n",
      "Epoch 00066: val_loss did not improve from 0.05997\n",
      "Epoch 67/200\n",
      "34/34 - 139s - loss: 0.0163 - TP: 3153.0000 - TN: 1048.0000 - FP: 11.0000 - FN: 16.0000 - AUC: 0.9999 - val_loss: 0.0958 - val_TP: 758.0000 - val_TN: 278.0000 - val_FP: 5.0000 - val_FN: 17.0000 - val_AUC: 0.9955\n",
      "\n",
      "Epoch 00067: val_loss did not improve from 0.05997\n",
      "Restoring model weights from the end of the best epoch.\n",
      "Epoch 00067: early stopping\n"
     ]
    }
   ],
   "source": [
    "epochs = 200\n",
    "lr = 1e-4\n",
    "\n",
    "ft_vgg16.compile(optimizer=Adam(lr=lr), loss='binary_crossentropy', metrics=metrics)\n",
    "\n",
    "training_time_start = datetime.datetime.now()\n",
    "\n",
    "vgg16_history = ft_vgg16.fit(train_batches,\n",
    "                                epochs=epochs,\n",
    "                                verbose=2,\n",
    "                                callbacks=[checkpoint, early_stopping],\n",
    "                                validation_data=valid_batches,\n",
    "                                steps_per_epoch=len(train_batches),\n",
    "                                validation_steps=len(valid_batches))\n",
    "\n",
    "training_time_end = datetime.datetime.now()"
   ]
  },
  {
   "cell_type": "code",
   "execution_count": 18,
   "metadata": {
    "execution": {
     "iopub.execute_input": "2021-08-04T10:04:51.839166Z",
     "iopub.status.busy": "2021-08-04T10:04:51.838797Z",
     "iopub.status.idle": "2021-08-04T10:04:51.845944Z",
     "shell.execute_reply": "2021-08-04T10:04:51.843878Z",
     "shell.execute_reply.started": "2021-08-04T10:04:51.839126Z"
    }
   },
   "outputs": [
    {
     "name": "stdout",
     "output_type": "stream",
     "text": [
      "Total training time:  2:32:50\n"
     ]
    }
   ],
   "source": [
    "total_training_seconds = (training_time_end - training_time_start).seconds\n",
    "print('Total training time: ', str(datetime.timedelta(seconds=total_training_seconds)))"
   ]
  },
  {
   "cell_type": "markdown",
   "metadata": {},
   "source": [
    "## 4. Evaluate"
   ]
  },
  {
   "cell_type": "code",
   "execution_count": 19,
   "metadata": {
    "execution": {
     "iopub.execute_input": "2021-08-04T10:04:51.847701Z",
     "iopub.status.busy": "2021-08-04T10:04:51.847363Z",
     "iopub.status.idle": "2021-08-04T10:04:51.860919Z",
     "shell.execute_reply": "2021-08-04T10:04:51.860018Z",
     "shell.execute_reply.started": "2021-08-04T10:04:51.847665Z"
    }
   },
   "outputs": [],
   "source": [
    "vgg16_hist_df = pd.DataFrame(vgg16_history.history)"
   ]
  },
  {
   "cell_type": "markdown",
   "metadata": {},
   "source": [
    "**Plot over entire epochs**"
   ]
  },
  {
   "cell_type": "code",
   "execution_count": 20,
   "metadata": {
    "execution": {
     "iopub.execute_input": "2021-08-04T10:04:51.862654Z",
     "iopub.status.busy": "2021-08-04T10:04:51.862257Z",
     "iopub.status.idle": "2021-08-04T10:04:52.042483Z",
     "shell.execute_reply": "2021-08-04T10:04:52.041644Z",
     "shell.execute_reply.started": "2021-08-04T10:04:51.862616Z"
    }
   },
   "outputs": [
    {
     "data": {
      "image/png": "[encoded data removed]",
      "text/plain": [
       "<Figure size 432x288 with 1 Axes>"
      ]
     },
     "metadata": {
      "needs_background": "light"
     },
     "output_type": "display_data"
    }
   ],
   "source": [
    "vgg16_hist_df.loc[:, ['loss', 'val_loss']].plot()\n",
    "plt.ylabel('Loss')\n",
    "plt.xlabel('Epoch')\n",
    "plt.show()"
   ]
  },
  {
   "cell_type": "code",
   "execution_count": 21,
   "metadata": {
    "execution": {
     "iopub.execute_input": "2021-08-04T10:04:52.044110Z",
     "iopub.status.busy": "2021-08-04T10:04:52.043781Z",
     "iopub.status.idle": "2021-08-04T10:04:52.195164Z",
     "shell.execute_reply": "2021-08-04T10:04:52.194193Z",
     "shell.execute_reply.started": "2021-08-04T10:04:52.044073Z"
    }
   },
   "outputs": [
    {
     "data": {
      "image/png": "[encoded data removed]",
      "text/plain": [
       "<Figure size 432x288 with 1 Axes>"
      ]
     },
     "metadata": {
      "needs_background": "light"
     },
     "output_type": "display_data"
    }
   ],
   "source": [
    "vgg16_hist_df.loc[:, ['AUC', 'val_AUC']].plot()\n",
    "plt.ylabel('AUC')\n",
    "plt.xlabel('Epoch')\n",
    "plt.show()"
   ]
  },
  {
   "cell_type": "markdown",
   "metadata": {},
   "source": [
    "**Plot over half first and first last epochs**"
   ]
  },
  {
   "cell_type": "code",
   "execution_count": 22,
   "metadata": {
    "execution": {
     "iopub.execute_input": "2021-08-04T10:04:52.196955Z",
     "iopub.status.busy": "2021-08-04T10:04:52.196601Z",
     "iopub.status.idle": "2021-08-04T10:04:52.510651Z",
     "shell.execute_reply": "2021-08-04T10:04:52.509660Z",
     "shell.execute_reply.started": "2021-08-04T10:04:52.196916Z"
    }
   },
   "outputs": [
    {
     "data": {
      "image/png": "[encoded data removed]",
      "text/plain": [
       "<Figure size 432x288 with 1 Axes>"
      ]
     },
     "metadata": {
      "needs_background": "light"
     },
     "output_type": "display_data"
    },
    {
     "data": {
      "image/png": "[encoded data removed]",
      "text/plain": [
       "<Figure size 432x288 with 1 Axes>"
      ]
     },
     "metadata": {
      "needs_background": "light"
     },
     "output_type": "display_data"
    }
   ],
   "source": [
    "num_of_epochs = vgg16_hist_df.shape[0]\n",
    "half_epoch = int(num_of_epochs / 2)\n",
    "\n",
    "first_half_vgg16_hist = vgg16_hist_df.loc[:half_epoch]\n",
    "first_title = f'Loss value at epoch 0 - { half_epoch }'\n",
    "\n",
    "last_half_vgg16_hist = vgg16_hist_df.loc[half_epoch:len(vgg16_hist_df)]\n",
    "last_title = f'Loss value at epoch { half_epoch } - { len(vgg16_hist_df) }'\n",
    "\n",
    "hists = [first_half_vgg16_hist, last_half_vgg16_hist]\n",
    "titles = [first_title, last_title]\n",
    "\n",
    "for i in range(2):\n",
    "    ax = hists[i][['loss', 'val_loss']].plot()\n",
    "    ax.set_xlabel('Epoch')\n",
    "    ax.set_ylabel('Loss value')\n",
    "    ax.set_title(titles[i])\n",
    "plt.show()"
   ]
  },
  {
   "cell_type": "code",
   "execution_count": 23,
   "metadata": {
    "execution": {
     "iopub.execute_input": "2021-08-04T10:04:52.512453Z",
     "iopub.status.busy": "2021-08-04T10:04:52.512084Z",
     "iopub.status.idle": "2021-08-04T10:04:52.824820Z",
     "shell.execute_reply": "2021-08-04T10:04:52.823935Z",
     "shell.execute_reply.started": "2021-08-04T10:04:52.512415Z"
    }
   },
   "outputs": [
    {
     "data": {
      "image/png": "[encoded data removed]",
      "text/plain": [
       "<Figure size 432x288 with 1 Axes>"
      ]
     },
     "metadata": {
      "needs_background": "light"
     },
     "output_type": "display_data"
    },
    {
     "data": {
      "image/png": "[encoded data removed]",
      "text/plain": [
       "<Figure size 432x288 with 1 Axes>"
      ]
     },
     "metadata": {
      "needs_background": "light"
     },
     "output_type": "display_data"
    }
   ],
   "source": [
    "first_title = f'AUC value at epoch 0 - { half_epoch }'\n",
    "last_title = f'AUC value at epoch { half_epoch } - { len(vgg16_hist_df) }'\n",
    "\n",
    "titles = [first_title, last_title]\n",
    "\n",
    "for i in range(2):\n",
    "    ax = hists[i][['AUC', 'val_AUC']].plot()\n",
    "    ax.set_xlabel('Epoch')\n",
    "    ax.set_ylabel('AUC value')\n",
    "    ax.set_title(titles[i])\n",
    "plt.show()"
   ]
  },
  {
   "cell_type": "code",
   "execution_count": 24,
   "metadata": {
    "execution": {
     "iopub.execute_input": "2021-08-04T10:04:52.826497Z",
     "iopub.status.busy": "2021-08-04T10:04:52.826124Z",
     "iopub.status.idle": "2021-08-04T10:05:04.043929Z",
     "shell.execute_reply": "2021-08-04T10:05:04.043131Z",
     "shell.execute_reply.started": "2021-08-04T10:04:52.826459Z"
    }
   },
   "outputs": [
    {
     "name": "stdout",
     "output_type": "stream",
     "text": [
      "78/78 [==============================] - 11s 126ms/step - loss: 0.2100 - TP: 387.0000 - TN: 199.0000 - FP: 35.0000 - FN: 3.0000 - AUC: 0.9795\n"
     ]
    }
   ],
   "source": [
    "evaluate_vgg16 = ft_vgg16.evaluate(test_batches, verbose=1)"
   ]
  },
  {
   "cell_type": "code",
   "execution_count": 35,
   "metadata": {
    "execution": {
     "iopub.execute_input": "2021-08-04T10:11:29.836627Z",
     "iopub.status.busy": "2021-08-04T10:11:29.836263Z",
     "iopub.status.idle": "2021-08-04T10:11:29.844173Z",
     "shell.execute_reply": "2021-08-04T10:11:29.843190Z",
     "shell.execute_reply.started": "2021-08-04T10:11:29.836596Z"
    }
   },
   "outputs": [
    {
     "name": "stdout",
     "output_type": "stream",
     "text": [
      "Test loss: 0.20995602011680603\n",
      "True positive: 387.0\n",
      "True negative: 199.0\n",
      "False positive: 35.0\n",
      "False negative: 3.0\n",
      "AUC: 0.98\n"
     ]
    }
   ],
   "source": [
    "loss, tp, tn, fp, fn, auc = evaluate_vgg16[0], evaluate_vgg16[1], evaluate_vgg16[2], evaluate_vgg16[3], evaluate_vgg16[4], evaluate_vgg16[5]\n",
    "print(f'Test loss: { loss }')\n",
    "print(f'True positive: { tp }')\n",
    "print(f'True negative: { tn }')\n",
    "print(f'False positive: { fp }')\n",
    "print(f'False negative: { fn }')\n",
    "print('AUC: %.2f' % auc)"
   ]
  },
  {
   "cell_type": "markdown",
   "metadata": {},
   "source": [
    "## 5. Plot PR curve and find optimal threshold"
   ]
  },
  {
   "cell_type": "code",
   "execution_count": 30,
   "metadata": {
    "execution": {
     "iopub.execute_input": "2021-08-04T10:10:15.939163Z",
     "iopub.status.busy": "2021-08-04T10:10:15.938810Z",
     "iopub.status.idle": "2021-08-04T10:10:15.944352Z",
     "shell.execute_reply": "2021-08-04T10:10:15.943243Z",
     "shell.execute_reply.started": "2021-08-04T10:10:15.939131Z"
    }
   },
   "outputs": [],
   "source": [
    "def find_optimal_threshold(precision, recall, threshold):\n",
    "    f1_score = (2 * precision * recall) / (precision + recall)\n",
    "    best_idx = np.argmax(f1_score)\n",
    "    best_threshold = threshold[best_idx]\n",
    "    return best_threshold, best_idx"
   ]
  },
  {
   "cell_type": "markdown",
   "metadata": {},
   "source": [
    "**Find the best threshold**"
   ]
  },
  {
   "cell_type": "code",
   "execution_count": 47,
   "metadata": {
    "execution": {
     "iopub.execute_input": "2021-08-04T10:15:18.521176Z",
     "iopub.status.busy": "2021-08-04T10:15:18.520845Z",
     "iopub.status.idle": "2021-08-04T10:15:25.335786Z",
     "shell.execute_reply": "2021-08-04T10:15:25.334920Z",
     "shell.execute_reply.started": "2021-08-04T10:15:18.521147Z"
    }
   },
   "outputs": [
    {
     "name": "stdout",
     "output_type": "stream",
     "text": [
      "Best threshold: 0.9180901646614075\n"
     ]
    }
   ],
   "source": [
    "y_true = test_batches.classes\n",
    "y_predict = ft_vgg16.predict(test_batches)\n",
    "precision, recall, threshold = precision_recall_curve(y_true, y_predict)\n",
    "best_threshold, best_idx = find_optimal_threshold(precision, recall, threshold)\n",
    "print('Best threshold: {}'.format(best_threshold))"
   ]
  },
  {
   "cell_type": "markdown",
   "metadata": {},
   "source": [
    "**Plot ROC curve**"
   ]
  },
  {
   "cell_type": "code",
   "execution_count": 32,
   "metadata": {
    "execution": {
     "iopub.execute_input": "2021-08-04T10:10:30.461162Z",
     "iopub.status.busy": "2021-08-04T10:10:30.460796Z",
     "iopub.status.idle": "2021-08-04T10:10:30.642523Z",
     "shell.execute_reply": "2021-08-04T10:10:30.641520Z",
     "shell.execute_reply.started": "2021-08-04T10:10:30.461129Z"
    }
   },
   "outputs": [
    {
     "data": {
      "image/png": "[encoded data removed]",
      "text/plain": [
       "<Figure size 504x360 with 1 Axes>"
      ]
     },
     "metadata": {
      "needs_background": "light"
     },
     "output_type": "display_data"
    }
   ],
   "source": [
    "plt.figure(figsize=(7, 5))\n",
    "auc_score = auc(recall, precision)\n",
    "plt.plot([1, 0], [0, 1], linestyle='--', color='black', label='No skill')\n",
    "plt.plot(recall, precision, linewidth=3, label='ResNet18')\n",
    "plt.plot(recall[best_idx], precision[best_idx], \n",
    "         marker='o', color='black', \n",
    "         label='Best_theshold', linestyle='', markersize='7')\n",
    "plt.xlabel('Recall', size=13)\n",
    "plt.ylabel('Precision', size=13)\n",
    "plt.title('Precision-Recall curve (AUC - {:.4f})'.format(auc_score), size=15)\n",
    "plt.legend()\n",
    "plt.show()"
   ]
  },
  {
   "cell_type": "markdown",
   "metadata": {},
   "source": [
    "## 6. Predict and plot confusion matrix"
   ]
  },
  {
   "cell_type": "code",
   "execution_count": 49,
   "metadata": {
    "execution": {
     "iopub.execute_input": "2021-08-04T10:15:36.841539Z",
     "iopub.status.busy": "2021-08-04T10:15:36.841183Z",
     "iopub.status.idle": "2021-08-04T10:15:36.850389Z",
     "shell.execute_reply": "2021-08-04T10:15:36.849492Z",
     "shell.execute_reply.started": "2021-08-04T10:15:36.841508Z"
    }
   },
   "outputs": [],
   "source": [
    "y_predict = (y_predict >= best_threshold).astype('int')\n",
    "y_predict = np.reshape(y_predict, -1)\n",
    "cfs_matrix = confusion_matrix(y_true, y_predict)"
   ]
  },
  {
   "cell_type": "code",
   "execution_count": 50,
   "metadata": {
    "execution": {
     "iopub.execute_input": "2021-08-04T10:15:37.796261Z",
     "iopub.status.busy": "2021-08-04T10:15:37.795908Z",
     "iopub.status.idle": "2021-08-04T10:15:37.959454Z",
     "shell.execute_reply": "2021-08-04T10:15:37.958463Z",
     "shell.execute_reply.started": "2021-08-04T10:15:37.796224Z"
    }
   },
   "outputs": [
    {
     "data": {
      "image/png": "[encoded data removed]",
      "text/plain": [
       "<Figure size 432x360 with 2 Axes>"
      ]
     },
     "metadata": {
      "needs_background": "light"
     },
     "output_type": "display_data"
    }
   ],
   "source": [
    "label = ['Normal', 'Pneumonia']\n",
    "\n",
    "plt.figure(figsize=(6, 5))\n",
    "plt.imshow(cfs_matrix, cmap=plt.cm.Blues)\n",
    "plt.colorbar()\n",
    "for i in range(len(label)):\n",
    "    for j in range(len(label)):\n",
    "        plt.text(j, i, cfs_matrix[i, j],\n",
    "                 horizontalalignment='center', verticalalignment='center', size=14)\n",
    "plt.xticks(np.arange(len(label)), label)\n",
    "plt.yticks(np.arange(len(label)), label)\n",
    "plt.xlabel('Predicted label', size=13)\n",
    "plt.ylabel('True label', size=13)\n",
    "plt.title('Confusion matrix of ResNet18', size=15)\n",
    "plt.show()"
   ]
  },
  {
   "cell_type": "code",
   "execution_count": null,
   "metadata": {},
   "outputs": [],
   "source": []
  }
 ],
 "metadata": {
  "kernelspec": {
   "display_name": "Python 3",
   "language": "python",
   "name": "python3"
  },
  "language_info": {
   "codemirror_mode": {
    "name": "ipython",
    "version": 3
   },
   "file_extension": ".py",
   "mimetype": "text/x-python",
   "name": "python",
   "nbconvert_exporter": "python",
   "pygments_lexer": "ipython3",
   "version": "3.8.8"
  }
 },
 "nbformat": 4,
 "nbformat_minor": 4
}
